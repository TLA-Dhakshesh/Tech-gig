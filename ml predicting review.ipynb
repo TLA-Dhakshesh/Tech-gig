{
 "cells": [
  {
   "cell_type": "code",
   "execution_count": 36,
   "id": "fc4ddf5a",
   "metadata": {},
   "outputs": [],
   "source": [
    "import os\n",
    "os.environ['TF_ENABLE_ONEDNN_OPTS'] = '1'\n",
    "os.environ['TF_NUM_INTRAOP_THREADS'] = '0'\n",
    "os.environ['TF_NUM_INTEROP_THREADS'] = '0'\n",
    "os.environ['TF_KERAS'] = '1'\n",
    "os.environ['TF_MKL'] = '1'\n",
    "\n",
    "import pandas as pd\n",
    "import numpy as np\n",
    "import tensorflow as tf\n",
    "from tensorflow.keras.models import Sequential\n",
    "from sklearn.model_selection import train_test_split\n",
    "from tensorflow.keras.preprocessing.text import Tokenizer\n",
    "from tensorflow.keras.preprocessing.sequence import pad_sequences\n",
    "from tensorflow.keras.layers import Embedding, LSTM, Dense, Dropout\n"
   ]
  },
  {
   "cell_type": "code",
   "execution_count": 37,
   "id": "6a99b791",
   "metadata": {},
   "outputs": [],
   "source": [
    "# Load the dataset\n",
    "data = pd.read_csv('review.csv')"
   ]
  },
  {
   "cell_type": "code",
   "execution_count": 38,
   "id": "823dda26",
   "metadata": {},
   "outputs": [
    {
     "data": {
      "text/html": [
       "<div>\n",
       "<style scoped>\n",
       "    .dataframe tbody tr th:only-of-type {\n",
       "        vertical-align: middle;\n",
       "    }\n",
       "\n",
       "    .dataframe tbody tr th {\n",
       "        vertical-align: top;\n",
       "    }\n",
       "\n",
       "    .dataframe thead th {\n",
       "        text-align: right;\n",
       "    }\n",
       "</style>\n",
       "<table border=\"1\" class=\"dataframe\">\n",
       "  <thead>\n",
       "    <tr style=\"text-align: right;\">\n",
       "      <th></th>\n",
       "      <th>sentiment</th>\n",
       "      <th>review</th>\n",
       "    </tr>\n",
       "  </thead>\n",
       "  <tbody>\n",
       "    <tr>\n",
       "      <th>0</th>\n",
       "      <td>1.0</td>\n",
       "      <td>Good but need updates and improvements</td>\n",
       "    </tr>\n",
       "    <tr>\n",
       "      <th>1</th>\n",
       "      <td>0.0</td>\n",
       "      <td>Worst mobile i have bought ever, Battery is dr...</td>\n",
       "    </tr>\n",
       "    <tr>\n",
       "      <th>2</th>\n",
       "      <td>1.0</td>\n",
       "      <td>when I will get my 10% cash back.... its alrea...</td>\n",
       "    </tr>\n",
       "    <tr>\n",
       "      <th>3</th>\n",
       "      <td>1.0</td>\n",
       "      <td>Good</td>\n",
       "    </tr>\n",
       "    <tr>\n",
       "      <th>4</th>\n",
       "      <td>0.0</td>\n",
       "      <td>The worst phone everThey have changed the last...</td>\n",
       "    </tr>\n",
       "  </tbody>\n",
       "</table>\n",
       "</div>"
      ],
      "text/plain": [
       "   sentiment                                             review\n",
       "0        1.0             Good but need updates and improvements\n",
       "1        0.0  Worst mobile i have bought ever, Battery is dr...\n",
       "2        1.0  when I will get my 10% cash back.... its alrea...\n",
       "3        1.0                                               Good\n",
       "4        0.0  The worst phone everThey have changed the last..."
      ]
     },
     "execution_count": 38,
     "metadata": {},
     "output_type": "execute_result"
    }
   ],
   "source": [
    "data.head()"
   ]
  },
  {
   "cell_type": "code",
   "execution_count": 39,
   "id": "1a506b04",
   "metadata": {},
   "outputs": [
    {
     "data": {
      "text/html": [
       "<div>\n",
       "<style scoped>\n",
       "    .dataframe tbody tr th:only-of-type {\n",
       "        vertical-align: middle;\n",
       "    }\n",
       "\n",
       "    .dataframe tbody tr th {\n",
       "        vertical-align: top;\n",
       "    }\n",
       "\n",
       "    .dataframe thead th {\n",
       "        text-align: right;\n",
       "    }\n",
       "</style>\n",
       "<table border=\"1\" class=\"dataframe\">\n",
       "  <thead>\n",
       "    <tr style=\"text-align: right;\">\n",
       "      <th></th>\n",
       "      <th>sentiment</th>\n",
       "      <th>review</th>\n",
       "    </tr>\n",
       "  </thead>\n",
       "  <tbody>\n",
       "    <tr>\n",
       "      <th>14670</th>\n",
       "      <td>1.0</td>\n",
       "      <td>I really like the phone, Everything is working...</td>\n",
       "    </tr>\n",
       "    <tr>\n",
       "      <th>14671</th>\n",
       "      <td>1.0</td>\n",
       "      <td>The Lenovo K8 Note is awesome. It takes best p...</td>\n",
       "    </tr>\n",
       "    <tr>\n",
       "      <th>14672</th>\n",
       "      <td>1.0</td>\n",
       "      <td>Awesome Gaget.. @ this price</td>\n",
       "    </tr>\n",
       "    <tr>\n",
       "      <th>14673</th>\n",
       "      <td>1.0</td>\n",
       "      <td>This phone is nice processing will be successf...</td>\n",
       "    </tr>\n",
       "    <tr>\n",
       "      <th>14674</th>\n",
       "      <td>1.0</td>\n",
       "      <td>Good product but the pakeging was not enough.</td>\n",
       "    </tr>\n",
       "  </tbody>\n",
       "</table>\n",
       "</div>"
      ],
      "text/plain": [
       "       sentiment                                             review\n",
       "14670        1.0  I really like the phone, Everything is working...\n",
       "14671        1.0  The Lenovo K8 Note is awesome. It takes best p...\n",
       "14672        1.0                       Awesome Gaget.. @ this price\n",
       "14673        1.0  This phone is nice processing will be successf...\n",
       "14674        1.0      Good product but the pakeging was not enough."
      ]
     },
     "execution_count": 39,
     "metadata": {},
     "output_type": "execute_result"
    }
   ],
   "source": [
    "data.tail()"
   ]
  },
  {
   "cell_type": "code",
   "execution_count": 40,
   "id": "7a8b381d",
   "metadata": {},
   "outputs": [],
   "source": [
    "# Split the dataset into train and test sets\n",
    "X_train, X_test, y_train, y_test = train_test_split(data['review'], data['sentiment'], test_size=0.001)"
   ]
  },
  {
   "cell_type": "code",
   "execution_count": 41,
   "id": "d1130a12",
   "metadata": {},
   "outputs": [],
   "source": [
    "# Tokenize the text and pad the sequences\n",
    "tokenizer = Tokenizer(num_words=10000, oov_token='<OOV>')\n",
    "tokenizer.fit_on_texts(X_train)\n",
    "X_train = tokenizer.texts_to_sequences(X_train)\n",
    "X_train = pad_sequences(X_train, maxlen=100, padding='post', truncating='post')\n",
    "X_test = tokenizer.texts_to_sequences(X_test)\n",
    "X_test = pad_sequences(X_test, maxlen=100, padding='post', truncating='post')"
   ]
  },
  {
   "cell_type": "code",
   "execution_count": 42,
   "id": "c012872e",
   "metadata": {},
   "outputs": [],
   "source": [
    "# Define the model\n",
    "model = Sequential([\n",
    "    Embedding(input_dim=10000, output_dim=128, input_length=100),\n",
    "    tf.keras.layers.GlobalAveragePooling1D(),\n",
    "    Dense(64, activation='relu'),\n",
    "    Dropout(0.2),\n",
    "    Dense(1, activation='sigmoid')\n",
    "])"
   ]
  },
  {
   "cell_type": "code",
   "execution_count": 43,
   "id": "10344cae",
   "metadata": {},
   "outputs": [],
   "source": [
    "# Compile the model\n",
    "opt = tf.compat.v1.train.AdamOptimizer()\n",
    "opt = tf.compat.v1.train.experimental.enable_mixed_precision_graph_rewrite(opt)\n",
    "model.compile(loss='binary_crossentropy', optimizer=opt, metrics=['accuracy'])"
   ]
  },
  {
   "cell_type": "code",
   "execution_count": 44,
   "id": "95192b17",
   "metadata": {},
   "outputs": [
    {
     "name": "stdout",
     "output_type": "stream",
     "text": [
      "Epoch 1/5\n",
      "  4/459 [..............................] - ETA: 8s - loss: 0.6935 - accuracy: 0.4922  "
     ]
    },
    {
     "name": "stderr",
     "output_type": "stream",
     "text": [
      "2023-04-16 03:10:10.797243: W tensorflow/core/grappler/optimizers/auto_mixed_precision.cc:2303] No (suitable) GPUs detected, skipping auto_mixed_precision graph optimizer\n"
     ]
    },
    {
     "name": "stdout",
     "output_type": "stream",
     "text": [
      "459/459 [==============================] - 9s 18ms/step - loss: 0.5197 - accuracy: 0.7508 - val_loss: 0.2907 - val_accuracy: 0.8667\n",
      "Epoch 2/5\n",
      "  7/459 [..............................] - ETA: 8s - loss: 0.3772 - accuracy: 0.8616"
     ]
    },
    {
     "name": "stderr",
     "output_type": "stream",
     "text": [
      "2023-04-16 03:10:19.333768: W tensorflow/core/grappler/optimizers/auto_mixed_precision.cc:2303] No (suitable) GPUs detected, skipping auto_mixed_precision graph optimizer\n"
     ]
    },
    {
     "name": "stdout",
     "output_type": "stream",
     "text": [
      "459/459 [==============================] - 8s 18ms/step - loss: 0.3263 - accuracy: 0.8723 - val_loss: 0.5038 - val_accuracy: 0.8000\n",
      "Epoch 3/5\n",
      "459/459 [==============================] - 8s 18ms/step - loss: 0.2812 - accuracy: 0.8930 - val_loss: 0.4648 - val_accuracy: 0.8667\n",
      "Epoch 4/5\n",
      "459/459 [==============================] - 8s 18ms/step - loss: 0.2583 - accuracy: 0.9048 - val_loss: 0.4960 - val_accuracy: 0.8667\n",
      "Epoch 5/5\n",
      "459/459 [==============================] - 8s 18ms/step - loss: 0.2386 - accuracy: 0.9134 - val_loss: 0.4540 - val_accuracy: 0.8667\n"
     ]
    },
    {
     "data": {
      "text/plain": [
       "<keras.callbacks.History at 0x7fd46c9e0490>"
      ]
     },
     "execution_count": 44,
     "metadata": {},
     "output_type": "execute_result"
    }
   ],
   "source": [
    "# Train the model\n",
    "model.fit(X_train, y_train, epochs=5, validation_data=(X_test, y_test), use_multiprocessing=True)"
   ]
  },
  {
   "cell_type": "code",
   "execution_count": 69,
   "id": "3f897f12",
   "metadata": {},
   "outputs": [
    {
     "name": "stdout",
     "output_type": "stream",
     "text": [
      "1/1 [==============================] - 0s 22ms/step - loss: 0.4540 - accuracy: 0.8667\n"
     ]
    }
   ],
   "source": [
    "# Evaluate the model on test data\n",
    "loss, accuracy = model.evaluate(X_test, y_test)"
   ]
  },
  {
   "cell_type": "code",
   "execution_count": 70,
   "id": "7842eaf6",
   "metadata": {},
   "outputs": [
    {
     "name": "stdout",
     "output_type": "stream",
     "text": [
      "Test accuracy: 0.8666666746139526\n"
     ]
    }
   ],
   "source": [
    "# Print the model's accuracy\n",
    "print('Test accuracy:', accuracy)"
   ]
  },
  {
   "cell_type": "code",
   "execution_count": 71,
   "id": "ed31bf00",
   "metadata": {},
   "outputs": [
    {
     "name": "stdout",
     "output_type": "stream",
     "text": [
      "Enter your review: Bad item\n"
     ]
    }
   ],
   "source": [
    "# Get review from user input\n",
    "user_review = input(\"Enter your review: \")\n",
    "\n",
    "# Preprocess user review\n",
    "user_review = tokenizer.texts_to_sequences([user_review])\n",
    "user_review = pad_sequences(user_review, maxlen=100, padding='post', truncating='post')"
   ]
  },
  {
   "cell_type": "code",
   "execution_count": 72,
   "id": "888bfe3c",
   "metadata": {},
   "outputs": [
    {
     "name": "stdout",
     "output_type": "stream",
     "text": [
      "1/1 [==============================] - 0s 17ms/step\n",
      "[[0.05548866]]\n",
      "Negative\n"
     ]
    }
   ],
   "source": [
    "# Predict sentiment for user review\n",
    "sentiment = model.predict(user_review)\n",
    "\n",
    "# Print the predicted sentiment\n",
    "print(sentiment)\n",
    "if sentiment > 0.6:\n",
    "    print(\"Positive\")\n",
    "elif sentiment < 0.6 and sentiment >= 0.1:\n",
    "    print(\"Neutral\")\n",
    "else:\n",
    "    print(\"Negative\")"
   ]
  },
  {
   "cell_type": "markdown",
   "id": "14dbaf9a",
   "metadata": {},
   "source": [
    "# "
   ]
  },
  {
   "cell_type": "code",
   "execution_count": 59,
   "id": "d5f93ce9",
   "metadata": {},
   "outputs": [],
   "source": [
    "from tensorflow.keras.models import model_from_json"
   ]
  },
  {
   "cell_type": "code",
   "execution_count": 60,
   "id": "58635b8c",
   "metadata": {},
   "outputs": [],
   "source": [
    "model_json = model.to_json()"
   ]
  },
  {
   "cell_type": "code",
   "execution_count": 61,
   "id": "c0ee06bb",
   "metadata": {},
   "outputs": [],
   "source": [
    "with open('model.json', \"w\") as json_file:\n",
    "    json_file.write(model_json)"
   ]
  },
  {
   "cell_type": "code",
   "execution_count": 62,
   "id": "cc3a8192",
   "metadata": {},
   "outputs": [],
   "source": [
    "model.save_weights(\"model.h5\")"
   ]
  },
  {
   "cell_type": "code",
   "execution_count": null,
   "id": "973d5d59",
   "metadata": {},
   "outputs": [],
   "source": [
    "# load json and create model\n",
    "json_file = open('model.json', 'r')\n",
    "loaded_model_json = json_file.read()\n",
    "json_file.close()\n",
    "loaded_model = model_from_json(loaded_model_json)\n",
    "# load weights into new model\n",
    "loaded_model.load_weights(\"model.h5\")\n",
    "print(\"Loaded model from disk\")"
   ]
  },
  {
   "cell_type": "code",
   "execution_count": null,
   "id": "7b4e6cbe",
   "metadata": {},
   "outputs": [],
   "source": [
    "# Get review from user input\n",
    "user_review = input(\"Enter your review: \")\n",
    "\n",
    "# Preprocess user review\n",
    "user_review = tokenizer.texts_to_sequences([user_review])\n",
    "user_review = pad_sequences(user_review, maxlen=100, padding='post', truncating='post')"
   ]
  },
  {
   "cell_type": "code",
   "execution_count": null,
   "id": "421cd7f7",
   "metadata": {},
   "outputs": [],
   "source": [
    "# Predict sentiment for user review\n",
    "sentiment = loaded_model.predict(user_review)\n",
    "\n",
    "# Print the predicted sentiment\n",
    "print(sentiment)\n",
    "if sentiment > 0.6:\n",
    "    print(\"Positive\")\n",
    "elif sentiment < 0.6 and sentiment >= 0.1:\n",
    "    print(\"Neutral\")\n",
    "else:\n",
    "    print(\"Negative\")"
   ]
  },
  {
   "cell_type": "code",
   "execution_count": null,
   "id": "afebe494",
   "metadata": {},
   "outputs": [],
   "source": []
  }
 ],
 "metadata": {
  "kernelspec": {
   "display_name": "Python 3 (ipykernel)",
   "language": "python",
   "name": "python3"
  },
  "language_info": {
   "codemirror_mode": {
    "name": "ipython",
    "version": 3
   },
   "file_extension": ".py",
   "mimetype": "text/x-python",
   "name": "python",
   "nbconvert_exporter": "python",
   "pygments_lexer": "ipython3",
   "version": "3.10.8"
  }
 },
 "nbformat": 4,
 "nbformat_minor": 5
}
